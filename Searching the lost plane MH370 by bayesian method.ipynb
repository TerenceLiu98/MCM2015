{
 "cells": [
  {
   "cell_type": "markdown",
   "metadata": {},
   "source": [
    "# Searching the lost plane MH370 by bayesian method"
   ]
  },
  {
   "cell_type": "markdown",
   "metadata": {},
   "source": [
    "## Introduction\n",
    "\n",
    "There was a very serious and tragic air crash in 2014. The MH370 flight planned from Kuala Lumpur to Beijing lost its signal about 40 minutes after takeoff and eventually failed to reach the end of the flight to Beijing. Many countries in the vicinity of the missing plane has been searching for the first time, but no sign of the plane has been found. Until four years later, MH370 is still a mystery, still no traces of the aircraft found.There are many reasons for not finding the plane that crashed. One of the important reasons for this is that the search area is inaccurate, which means that the location and search scheme of the wrecked aircraft may greatly affect the efficiency of the search. So we considered the process of the plane crash as a physical model, and when the plane crashed into the ocean,we try to use Bayesian search to the plane.\n",
    "\n",
    "## Analysis of the Problem\n",
    "For finding a missing aircraft, we can split it into two part: First, we have to predict the descending route of the aircraft and the searching area; Then, we have to calculate the probability of each area. Also, after some discussion, we came to the conclusion that we should consider the possibility of turning during gliding and taxiing. Each area does not have the some probability, we use the bayesian networks model. This model can represent the probabilistic relationship between the probability and the sliding distance and the deviation from the predetermined trajectory.\n",
    "\n",
    "## Assumption\n",
    "### 3.1 Wind and ocean currents\n",
    "For a whole range of search areas, the effect of ocean currents is weak, and we will not consider the impact of ocean currents on the displacement of falling aircraft in the sea.\n",
    "And also no considering of the wind in the course of the plane’s descent.\n",
    "<br>\n",
    "### 3.2 Plane crash process\n",
    "\n",
    "#### 3.2.1 Assumption of aircraft falling outside conditions\n",
    "\n",
    "Assuming the plane doesn’t disintegrate during the falling.\n",
    "The last time signal of MH370 was at sea, according to MH370 ’s flight route, we assumed that the plane would crash into the ocean rather than land.\n",
    "After the aircraft engine failure, the fall direction and velocity direction are the same, no deviation in the direction.\n",
    "<br>\n",
    "#### 3.2.2 Simple calculation of the falling position of aircraft\n",
    "the following symbol are appear in our equations to solve the problem.\n",
    "\n",
    "[![symbol.png](https://i.loli.net/2018/06/11/5b1d6b99a0e86.png)](https://i.loli.net/2018/06/11/5b1d6b99a0e86.png)\n",
    "\n",
    "we assume that, after the aircraft’s engine failed, the fuel ran out and the plane started to fall without power but it still has a speed. and then, we have a force analysis of aircraft. The plane will be subjected to the force of gravity(Mg) and air(F).The force of air on an aircraft can be broken down into vertical lift and horizontal resistance.[3] As shown in Figure.<br>\n",
    "[![606.png](https://i.loli.net/2018/06/11/5b1d6f360d5ef.png)](https://i.loli.net/2018/06/11/5b1d6f360d5ef.png)<br>\n",
    "From the formula for calculating the lift of aircraft, we can draw: <center>$F_1 = \\frac{1}{2}C_1\\rho v^2S_1$</center><br>\n",
    "From the formula for calculating the resistance of aircraft, we can draw:<center>$f = \\frac{1}{2}C_f\\rho v^2 S_2$</center><br>\n",
    "Because atmospheric density varies according to altitude.After querying the relevant data, we obtained the formula between altitude and atmospheric density.<br>\n",
    "<center>$\\rho_H = \\rho_0(1 - 2.25577 \\times 10^{-5}H)^{4.25588}$</center><br>\n",
    "<br>"
   ]
  },
  {
   "cell_type": "markdown",
   "metadata": {},
   "source": [
    "since the last time the plane sent a signal, the flight altitude was 35000 feet (10668m) so we assume H = 10000m, and calculate $\\rho_H = 0.4007kg/m^3$\n",
    "then we can draw the graph of$\\rho_H$<br>\n",
    "[![603.png](https://i.loli.net/2018/06/11/5b1d70d663e53.png)](https://i.loli.net/2018/06/11/5b1d70d663e53.png)\n",
    "<br>\n",
    "from this graph, we can consider it to a linear model, and then find the average ρas the atmo- spheric density we use in this problem.\n",
    "then we can get:<br>\n",
    "<center>$ρ = \\frac{1.225 + 0.4007}{2} = 0.8129 ≈ 0.8 kg/m^3$<br></center>\n",
    "Next we’ll build a coordinate system:<br>\n",
    "The flight direction of the plane is X − axis; Vertical direction is Y − axis Next, we can decompose the acceleration according to the force direction. Finally, we have following equations:<br>\n",
    "<center>$f = Ma_x$, $Mg-F_1 = Ma_y$</center>\n",
    "<br>\n"
   ]
  },
  {
   "cell_type": "code",
   "execution_count": null,
   "metadata": {},
   "outputs": [],
   "source": []
  }
 ],
 "metadata": {
  "kernelspec": {
   "display_name": "Python 3",
   "language": "python",
   "name": "python3"
  },
  "language_info": {
   "codemirror_mode": {
    "name": "ipython",
    "version": 3
   },
   "file_extension": ".py",
   "mimetype": "text/x-python",
   "name": "python",
   "nbconvert_exporter": "python",
   "pygments_lexer": "ipython3",
   "version": "3.6.3"
  }
 },
 "nbformat": 4,
 "nbformat_minor": 2
}
